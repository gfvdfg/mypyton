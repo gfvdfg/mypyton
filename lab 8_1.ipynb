{
 "cells": [
  {
   "cell_type": "code",
   "execution_count": 10,
   "metadata": {},
   "outputs": [
    {
     "name": "stdout",
     "output_type": "stream",
     "text": [
      "เงินเดือนรวมของพนักงาน11 คือ 4040.00 บาท\n"
     ]
    }
   ],
   "source": [
    "def cal(n, base, ov):\n",
    "    if ov > 40:\n",
    "        overt = (ov - 40) * 150  \n",
    "        re = 40 * 100  \n",
    "    else:\n",
    "        overt = 0\n",
    "        re = ov * 100\n",
    "    \n",
    "    total = base + re + overt\n",
    "    return total\n",
    "name = input(\"ชื่อพนักงาน: \")\n",
    "sal = float(input(\"เงินเดือนพนักงาน (บาท/เดือน): \"))\n",
    "over = float(input(\"ชั่วโมงล่วงเวลา (ชั่วโมง): \"))\n",
    "\n",
    "\n",
    "\n",
    "total = cal(name, sal, over)\n",
    "print(f\"เงินเดือนรวมของพนักงาน{name} คือ {total:.2f} บาท\")\n"
   ]
  }
 ],
 "metadata": {
  "kernelspec": {
   "display_name": "Python 3",
   "language": "python",
   "name": "python3"
  },
  "language_info": {
   "codemirror_mode": {
    "name": "ipython",
    "version": 3
   },
   "file_extension": ".py",
   "mimetype": "text/x-python",
   "name": "python",
   "nbconvert_exporter": "python",
   "pygments_lexer": "ipython3",
   "version": "3.12.4"
  }
 },
 "nbformat": 4,
 "nbformat_minor": 2
}
